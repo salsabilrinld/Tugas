{
  "cells": [
    {
      "cell_type": "markdown",
      "metadata": {
        "id": "view-in-github",
        "colab_type": "text"
      },
      "source": [
        "<a href=\"https://colab.research.google.com/github/salsabilrinld/Tugas/blob/main/try%20calculator.ipynb\" target=\"_parent\"><img src=\"https://colab.research.google.com/assets/colab-badge.svg\" alt=\"Open In Colab\"/></a>"
      ]
    },
    {
      "cell_type": "markdown",
      "source": [
        "Salsabil Rinaldi\n",
        "J0403231073\n",
        "isabelrinaldi@apps.ipb.ac.id"
      ],
      "metadata": {
        "id": "VKIZ4fHiI0qA"
      }
    },
    {
      "cell_type": "code",
      "source": [
        "def perform_operation(operator, *args):\n",
        "    \"\"\"\n",
        "    Perform an arithmetic operation on a variable number of arguments.\n",
        "\n",
        "    Args:\n",
        "        operator (str): The arithmetic operator ('+', '-', '*', or '/') to perform the operation.\n",
        "        *args (float): Variable number of arguments on which the operation is performed.\n",
        "\n",
        "    Returns:\n",
        "        float: The result of the arithmetic operation.\n",
        "\n",
        "    Raises:\n",
        "        ValueError: If an invalid operator is provided.\n",
        "        ZeroDivisionError: If division by zero occurs.\n",
        "\n",
        "    Examples:\n",
        "        >>> perform_operation('+', 5, 3)\n",
        "        8\n",
        "        >>> perform_operation('-', 10, 4, 2)\n",
        "        4\n",
        "        >>> perform_operation('*', 2, 3, 4)\n",
        "        24\n",
        "        >>> perform_operation('/', 8, 2)\n",
        "        4.0\n",
        "    \"\"\"\n",
        "    if operator == '+':\n",
        "        result = sum(args)\n",
        "    elif operator == '-':\n",
        "        result = args[0] - sum(args[1:])\n",
        "    elif operator == '*':\n",
        "        result = 1\n",
        "        for arg in args:\n",
        "            result *= arg\n",
        "    elif operator == '/':\n",
        "        result = args[0]\n",
        "        for arg in args[1:]:\n",
        "            if arg == 0:\n",
        "                raise ZeroDivisionError(\"Division by zero is not allowed.\")\n",
        "            result /= arg\n",
        "    else:\n",
        "        raise ValueError(\"Invalid operator. Use '+', '-', '*', or '/'.\")\n",
        "\n",
        "    return result\n",
        "\n",
        "# Example usages\n",
        "print(perform_operation('+', 5, 3))  # Should print 8\n",
        "print(perform_operation('-', 10, 4, 2))  # Should print 4\n",
        "print(perform_operation('*', 2, 3, 4))  # Should print 24\n",
        "print(perform_operation('/', 8, 2))  # Should print 4.0\n"
      ],
      "metadata": {
        "id": "HcoGFKcSJFQS"
      },
      "execution_count": null,
      "outputs": []
    }
  ],
  "metadata": {
    "colab": {
      "toc_visible": true,
      "provenance": [],
      "include_colab_link": true
    },
    "kernelspec": {
      "display_name": "Python 3",
      "name": "python3"
    }
  },
  "nbformat": 4,
  "nbformat_minor": 0
}